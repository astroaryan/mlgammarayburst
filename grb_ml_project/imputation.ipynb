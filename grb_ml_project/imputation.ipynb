{
 "cells": [
  {
   "cell_type": "code",
   "execution_count": 57,
   "id": "7fc880e5",
   "metadata": {},
   "outputs": [],
   "source": [
    "import pandas as pd\n",
    "import numpy as np\n",
    "import matplotlib.pyplot as plt"
   ]
  },
  {
   "cell_type": "code",
   "execution_count": 58,
   "id": "f68a690e",
   "metadata": {},
   "outputs": [],
   "source": [
    "file_path = 'longgrbs_ready_for_imputation.xlsx'  \n",
    "df = pd.read_excel(file_path)"
   ]
  },
  {
   "cell_type": "markdown",
   "id": "cfc74878",
   "metadata": {},
   "source": [
    "like three datapoints were problematic after the knn imputation when i manually inspected the excel sheet. there was one outlier significantly changing the values.\n"
   ]
  },
  {
   "cell_type": "code",
   "execution_count": 59,
   "id": "f9aa470a",
   "metadata": {},
   "outputs": [],
   "source": [
    "#here we prepare the data for knn imputation\n",
    "#we found an outlier\n",
    "flux_col = 'XRT Early Flux (0.3-10 keV) [10^-11 erg/cm^2/s]'\n",
    "median_flux = df[flux_col].median()\n",
    "\n",
    "median_magnitude = df['uvot_mag'].max()  \n",
    "#super weird outlier at this index.\n",
    "df.at[392, flux_col] = median_flux\n",
    "\n",
    "#there were two outliers for some reason registering at 198.9 for the uvot magnitude value.\n",
    "df.at[146, 'uvot_mag'] = 19.89\n",
    "df.at[193, 'uvot_mag'] = 19.89"
   ]
  },
  {
   "cell_type": "markdown",
   "id": "2007fe83",
   "metadata": {},
   "source": [
    "first imputation method is to use the median of the column as the imputed value for missing data"
   ]
  },
  {
   "cell_type": "code",
   "execution_count": 60,
   "id": "c8cf8910",
   "metadata": {},
   "outputs": [],
   "source": [
    "df_imputed_median = df.fillna(df.median(numeric_only=True))"
   ]
  },
  {
   "cell_type": "markdown",
   "id": "1d8c6407",
   "metadata": {},
   "source": [
    "second imputation method is to use knn imputation."
   ]
  },
  {
   "cell_type": "code",
   "execution_count": 61,
   "id": "915fbbec",
   "metadata": {},
   "outputs": [],
   "source": [
    "#set up and scale data for imputation:\n",
    "from sklearn.preprocessing import StandardScaler\n",
    "from sklearn.impute import KNNImputer\n",
    "\n",
    "impute_cols = df.drop(columns=['GRB', 'Redshift']).columns\n",
    "\n",
    "scaler = StandardScaler()\n",
    "df_scaled = pd.DataFrame(scaler.fit_transform(df[impute_cols]), columns=impute_cols)"
   ]
  },
  {
   "cell_type": "code",
   "execution_count": null,
   "id": "e4e39b85",
   "metadata": {},
   "outputs": [
    {
     "name": "stdout",
     "output_type": "stream",
     "text": [
      "knn imputation complete\n"
     ]
    }
   ],
   "source": [
    "imputer = KNNImputer(n_neighbors=7, weights='distance')\n",
    "df_imputed_scaled = pd.DataFrame(imputer.fit_transform(df_scaled), columns=impute_cols)\n",
    "\n",
    "df_imputed = pd.DataFrame(scaler.inverse_transform(df_imputed_scaled), columns=impute_cols)\n",
    "\n",
    "df_imputed_knn = pd.concat([df[['GRB', 'Redshift']].reset_index(drop=True), df_imputed.reset_index(drop=True)], axis=1)\n",
    "print('knn imputation complete')"
   ]
  },
  {
   "cell_type": "markdown",
   "id": "3433382e",
   "metadata": {},
   "source": [
    "i will try MICE imputation next and put it below"
   ]
  },
  {
   "cell_type": "code",
   "execution_count": 63,
   "id": "79a2eec4",
   "metadata": {},
   "outputs": [],
   "source": [
    "#required packages are below:\n",
    "#https://scikit-learn.org/stable/modules/impute.html\n",
    "#documentation for mice imputation is above.\n",
    "from sklearn.experimental import enable_iterative_imputer\n",
    "from sklearn.impute import IterativeImputer\n",
    "from sklearn.linear_model import BayesianRidge\n",
    "from sklearn.ensemble import RandomForestRegressor, GradientBoostingRegressor"
   ]
  },
  {
   "cell_type": "code",
   "execution_count": 64,
   "id": "2d4928d5",
   "metadata": {},
   "outputs": [],
   "source": [
    "iteration_number = 30"
   ]
  },
  {
   "cell_type": "code",
   "execution_count": 65,
   "id": "525a3b2a",
   "metadata": {},
   "outputs": [
    {
     "name": "stdout",
     "output_type": "stream",
     "text": [
      "mice imputation done. with iteration number 30\n"
     ]
    },
    {
     "name": "stderr",
     "output_type": "stream",
     "text": [
      "/opt/anaconda3/lib/python3.11/site-packages/sklearn/impute/_iterative.py:785: ConvergenceWarning: [IterativeImputer] Early stopping criterion not reached.\n",
      "  warnings.warn(\n"
     ]
    }
   ],
   "source": [
    "imputer = IterativeImputer(max_iter=iteration_number, estimator=BayesianRidge())\n",
    "df_imputed_scaled = pd.DataFrame(imputer.fit_transform(df_scaled), columns=impute_cols)\n",
    "df_imputed = pd.DataFrame(scaler.inverse_transform(df_imputed_scaled), columns=impute_cols)\n",
    "df_imputed_mice = pd.concat([df[['GRB', 'Redshift']].reset_index(drop=True), df_imputed.reset_index(drop=True)], axis=1)\n",
    "print('mice imputation done. with iteration number', iteration_number)"
   ]
  },
  {
   "cell_type": "code",
   "execution_count": 66,
   "id": "9f9a7b52",
   "metadata": {},
   "outputs": [
    {
     "data": {
      "text/plain": [
       "\"imputer_rf = IterativeImputer(\\n    estimator=RandomForestRegressor(n_estimators=100),\\n    max_iter=iteration_number,\\n)\\n\\ndf_imputed_scaled = pd.DataFrame(imputer_rf.fit_transform(df_scaled), columns=impute_cols)\\ndf_imputed = pd.DataFrame(scaler.inverse_transform(df_imputed_scaled), columns=impute_cols)\\ndf_imputed_final = pd.concat([df[['GRB', 'Redshift']].reset_index(drop=True), df_imputed.reset_index(drop=True)], axis=1)\\ndf_imputed_final.to_excel('rf_mice_imputation.xlsx', index=False)\\n\\nprint('mice with random forest imputer done. with iteration number', iteration_number)\""
      ]
     },
     "execution_count": 66,
     "metadata": {},
     "output_type": "execute_result"
    }
   ],
   "source": [
    "'''imputer_rf = IterativeImputer(\n",
    "    estimator=RandomForestRegressor(n_estimators=100),\n",
    "    max_iter=iteration_number,\n",
    ")\n",
    "\n",
    "df_imputed_scaled = pd.DataFrame(imputer_rf.fit_transform(df_scaled), columns=impute_cols)\n",
    "df_imputed = pd.DataFrame(scaler.inverse_transform(df_imputed_scaled), columns=impute_cols)\n",
    "df_imputed_final = pd.concat([df[['GRB', 'Redshift']].reset_index(drop=True), df_imputed.reset_index(drop=True)], axis=1)\n",
    "df_imputed_final.to_excel('rf_mice_imputation.xlsx', index=False)\n",
    "\n",
    "print('mice with random forest imputer done. with iteration number', iteration_number)'''"
   ]
  },
  {
   "cell_type": "code",
   "execution_count": 67,
   "id": "9d99dd92",
   "metadata": {},
   "outputs": [
    {
     "data": {
      "text/plain": [
       "\"imputer_gb = IterativeImputer(\\n    estimator=GradientBoostingRegressor(n_estimators=100, learning_rate=0.1),\\n    max_iter=iteration_number,\\n)\\n\\ndf_imputed_scaled = pd.DataFrame(imputer_gb.fit_transform(df_scaled), columns=impute_cols)\\ndf_imputed = pd.DataFrame(scaler.inverse_transform(df_imputed_scaled), columns=impute_cols)\\ndf_imputed_final = pd.concat([df[['GRB', 'Redshift']].reset_index(drop=True), df_imputed.reset_index(drop=True)], axis=1)\\n\\ndf_imputed_final.to_excel('gb_mice_imputation.xlsx', index=False)\\n\\nprint('mice with gradient boosting imputer done. with iteration number', iteration_number)\""
      ]
     },
     "execution_count": 67,
     "metadata": {},
     "output_type": "execute_result"
    }
   ],
   "source": [
    "'''imputer_gb = IterativeImputer(\n",
    "    estimator=GradientBoostingRegressor(n_estimators=100, learning_rate=0.1),\n",
    "    max_iter=iteration_number,\n",
    ")\n",
    "\n",
    "df_imputed_scaled = pd.DataFrame(imputer_gb.fit_transform(df_scaled), columns=impute_cols)\n",
    "df_imputed = pd.DataFrame(scaler.inverse_transform(df_imputed_scaled), columns=impute_cols)\n",
    "df_imputed_final = pd.concat([df[['GRB', 'Redshift']].reset_index(drop=True), df_imputed.reset_index(drop=True)], axis=1)\n",
    "\n",
    "df_imputed_final.to_excel('gb_mice_imputation.xlsx', index=False)\n",
    "\n",
    "print('mice with gradient boosting imputer done. with iteration number', iteration_number)'''"
   ]
  },
  {
   "cell_type": "code",
   "execution_count": null,
   "id": "bbae1d7c",
   "metadata": {},
   "outputs": [],
   "source": [
    "def engineer_grb_features(df):\n",
    "    epsilon = 1e-8\n",
    "    df = df.copy()\n",
    "    df['flux_ratio_11h_early'] = df['XRT 11 Hour Flux (0.3-10 keV) [10^-11 erg/cm^2/s]'] / (df['XRT Early Flux (0.3-10 keV) [10^-11 erg/cm^2/s]'] + epsilon)\n",
    "    df['flux_ratio_24h_11h'] = df['XRT 24 Hour Flux (0.3-10 keV) [10^-11 erg/cm^2/s]'] / (df['XRT 11 Hour Flux (0.3-10 keV) [10^-11 erg/cm^2/s]'] + epsilon)\n",
    "    df['log_time_ratio_uvot_xrt'] = (\n",
    "        np.log10(np.abs(df['UVOT Time to First Observation [sec]'] + epsilon)) -\n",
    "        np.log10(np.abs(df['XRT Time to First Observation [sec]'] + epsilon))\n",
    "    )\n",
    "    det_columns = ['B_det', 'U_det', 'UVW1_det', 'UVM2_det', 'UVW2_det', 'White_det', 'uvot_detection_flag']\n",
    "    df['uvot_det_sum'] = df[det_columns].sum(axis=1)\n",
    "    df['XRT Time to First Observation [sec]'] = np.log10(np.abs(df['XRT Time to First Observation [sec]'] + epsilon))\n",
    "    df['UVOT Time to First Observation [sec]'] = np.log10(np.abs(df['UVOT Time to First Observation [sec]'] + epsilon))\n",
    "    df['BAT T90 [sec]'] = np.log10(np.abs(df['BAT T90 [sec]'] + epsilon))\n",
    "    df['XRT Column Density (NH) [10^21 cm^-2]'] = np.log10(np.abs(df['XRT Column Density (NH) [10^21 cm^-2]'] + epsilon)) #bring back this one later if necessary\n",
    "\n",
    "    return df"
   ]
  },
  {
   "cell_type": "code",
   "execution_count": 69,
   "id": "ae85a9a7",
   "metadata": {},
   "outputs": [],
   "source": [
    "df_imputed_median_after = engineer_grb_features(df_imputed_median)\n",
    "df_imputed_median_after.to_excel('median_imputation.xlsx', index=False)"
   ]
  },
  {
   "cell_type": "code",
   "execution_count": 70,
   "id": "295c0117",
   "metadata": {},
   "outputs": [],
   "source": [
    "df_imputed_knn_after = engineer_grb_features(df_imputed_knn)\n",
    "df_imputed_knn_after.to_excel('knn_imputation.xlsx', index=False)"
   ]
  },
  {
   "cell_type": "code",
   "execution_count": 71,
   "id": "a89518e9",
   "metadata": {},
   "outputs": [],
   "source": [
    "df_imputed_mice_after = engineer_grb_features(df_imputed_mice)\n",
    "df_imputed_mice_after.to_excel('mice_imputation.xlsx', index=False)"
   ]
  }
 ],
 "metadata": {
  "kernelspec": {
   "display_name": "base",
   "language": "python",
   "name": "python3"
  },
  "language_info": {
   "codemirror_mode": {
    "name": "ipython",
    "version": 3
   },
   "file_extension": ".py",
   "mimetype": "text/x-python",
   "name": "python",
   "nbconvert_exporter": "python",
   "pygments_lexer": "ipython3",
   "version": "3.11.0"
  }
 },
 "nbformat": 4,
 "nbformat_minor": 5
}
